{
 "cells": [
  {
   "cell_type": "code",
   "execution_count": 22,
   "id": "06175089",
   "metadata": {},
   "outputs": [
    {
     "name": "stdout",
     "output_type": "stream",
     "text": [
      "Shape of dataset: (614, 13)\n",
      "------------------------------\n",
      "    Loan_ID Gender Married Dependents     Education Self_Employed  \\\n",
      "0  LP001002   Male      No          0      Graduate            No   \n",
      "1  LP001003   Male     Yes          1      Graduate            No   \n",
      "2  LP001005   Male     Yes          0      Graduate           Yes   \n",
      "3  LP001006   Male     Yes          0  Not Graduate            No   \n",
      "4  LP001008   Male      No          0      Graduate            No   \n",
      "\n",
      "   ApplicantIncome  CoapplicantIncome  LoanAmount  Loan_Amount_Term  \\\n",
      "0             5849                0.0         NaN             360.0   \n",
      "1             4583             1508.0       128.0             360.0   \n",
      "2             3000                0.0        66.0             360.0   \n",
      "3             2583             2358.0       120.0             360.0   \n",
      "4             6000                0.0       141.0             360.0   \n",
      "\n",
      "   Credit_History Property_Area Loan_Status  \n",
      "0             1.0         Urban           Y  \n",
      "1             1.0         Rural           N  \n",
      "2             1.0         Urban           Y  \n",
      "3             1.0         Urban           Y  \n",
      "4             1.0         Urban           Y  \n",
      "------------------------------\n",
      "<class 'pandas.core.frame.DataFrame'>\n",
      "RangeIndex: 614 entries, 0 to 613\n",
      "Data columns (total 13 columns):\n",
      " #   Column             Non-Null Count  Dtype  \n",
      "---  ------             --------------  -----  \n",
      " 0   Loan_ID            614 non-null    object \n",
      " 1   Gender             601 non-null    object \n",
      " 2   Married            611 non-null    object \n",
      " 3   Dependents         599 non-null    object \n",
      " 4   Education          614 non-null    object \n",
      " 5   Self_Employed      582 non-null    object \n",
      " 6   ApplicantIncome    614 non-null    int64  \n",
      " 7   CoapplicantIncome  614 non-null    float64\n",
      " 8   LoanAmount         592 non-null    float64\n",
      " 9   Loan_Amount_Term   600 non-null    float64\n",
      " 10  Credit_History     564 non-null    float64\n",
      " 11  Property_Area      614 non-null    object \n",
      " 12  Loan_Status        614 non-null    object \n",
      "dtypes: float64(4), int64(1), object(8)\n",
      "memory usage: 62.5+ KB\n",
      "None\n",
      "------------------------------\n",
      "       ApplicantIncome  CoapplicantIncome  LoanAmount  Loan_Amount_Term  \\\n",
      "count       614.000000         614.000000  592.000000         600.00000   \n",
      "mean       5403.459283        1621.245798  146.412162         342.00000   \n",
      "std        6109.041673        2926.248369   85.587325          65.12041   \n",
      "min         150.000000           0.000000    9.000000          12.00000   \n",
      "25%        2877.500000           0.000000  100.000000         360.00000   \n",
      "50%        3812.500000        1188.500000  128.000000         360.00000   \n",
      "75%        5795.000000        2297.250000  168.000000         360.00000   \n",
      "max       81000.000000       41667.000000  700.000000         480.00000   \n",
      "\n",
      "       Credit_History  \n",
      "count      564.000000  \n",
      "mean         0.842199  \n",
      "std          0.364878  \n",
      "min          0.000000  \n",
      "25%          1.000000  \n",
      "50%          1.000000  \n",
      "75%          1.000000  \n",
      "max          1.000000  \n"
     ]
    }
   ],
   "source": [
    "# ------------------------------\n",
    "# Step 1: Import Libraries\n",
    "# ------------------------------\n",
    "import pandas as pd\n",
    "import numpy as np\n",
    "\n",
    "# Load dataset\n",
    "df = pd.read_csv(r\"D:\\Projects\\Capstone Project\\Loan_Prediction.csv\")\n",
    "\n",
    "# Preview dataset\n",
    "print(\"Shape of dataset:\", df.shape)\n",
    "print(\"------------------------------\")\n",
    "print(df.head())\n",
    "print(\"------------------------------\")\n",
    "print(df.info())\n",
    "print(\"------------------------------\")\n",
    "print(df.describe())\n"
   ]
  },
  {
   "cell_type": "code",
   "execution_count": 23,
   "id": "ce3b5e39",
   "metadata": {},
   "outputs": [
    {
     "name": "stdout",
     "output_type": "stream",
     "text": [
      "\n",
      "Missing values per column:\n",
      " Loan_ID               0\n",
      "Gender               13\n",
      "Married               3\n",
      "Dependents           15\n",
      "Education             0\n",
      "Self_Employed        32\n",
      "ApplicantIncome       0\n",
      "CoapplicantIncome     0\n",
      "LoanAmount           22\n",
      "Loan_Amount_Term     14\n",
      "Credit_History       50\n",
      "Property_Area         0\n",
      "Loan_Status           0\n",
      "dtype: int64\n"
     ]
    },
    {
     "name": "stderr",
     "output_type": "stream",
     "text": [
      "C:\\Users\\kumar\\AppData\\Local\\Temp\\ipykernel_6164\\3101133064.py:9: FutureWarning: A value is trying to be set on a copy of a DataFrame or Series through chained assignment using an inplace method.\n",
      "The behavior will change in pandas 3.0. This inplace method will never work because the intermediate object on which we are setting values always behaves as a copy.\n",
      "\n",
      "For example, when doing 'df[col].method(value, inplace=True)', try using 'df.method({col: value}, inplace=True)' or df[col] = df[col].method(value) instead, to perform the operation inplace on the original object.\n",
      "\n",
      "\n",
      "  df['LoanAmount'].fillna(df['LoanAmount'].median(), inplace=True)\n",
      "C:\\Users\\kumar\\AppData\\Local\\Temp\\ipykernel_6164\\3101133064.py:10: FutureWarning: A value is trying to be set on a copy of a DataFrame or Series through chained assignment using an inplace method.\n",
      "The behavior will change in pandas 3.0. This inplace method will never work because the intermediate object on which we are setting values always behaves as a copy.\n",
      "\n",
      "For example, when doing 'df[col].method(value, inplace=True)', try using 'df.method({col: value}, inplace=True)' or df[col] = df[col].method(value) instead, to perform the operation inplace on the original object.\n",
      "\n",
      "\n",
      "  df['Loan_Amount_Term'].fillna(df['Loan_Amount_Term'].median(), inplace=True)\n",
      "C:\\Users\\kumar\\AppData\\Local\\Temp\\ipykernel_6164\\3101133064.py:11: FutureWarning: A value is trying to be set on a copy of a DataFrame or Series through chained assignment using an inplace method.\n",
      "The behavior will change in pandas 3.0. This inplace method will never work because the intermediate object on which we are setting values always behaves as a copy.\n",
      "\n",
      "For example, when doing 'df[col].method(value, inplace=True)', try using 'df.method({col: value}, inplace=True)' or df[col] = df[col].method(value) instead, to perform the operation inplace on the original object.\n",
      "\n",
      "\n",
      "  df['Credit_History'].fillna(df['Credit_History'].mode()[0], inplace=True)\n",
      "C:\\Users\\kumar\\AppData\\Local\\Temp\\ipykernel_6164\\3101133064.py:15: FutureWarning: A value is trying to be set on a copy of a DataFrame or Series through chained assignment using an inplace method.\n",
      "The behavior will change in pandas 3.0. This inplace method will never work because the intermediate object on which we are setting values always behaves as a copy.\n",
      "\n",
      "For example, when doing 'df[col].method(value, inplace=True)', try using 'df.method({col: value}, inplace=True)' or df[col] = df[col].method(value) instead, to perform the operation inplace on the original object.\n",
      "\n",
      "\n",
      "  df[col].fillna(df[col].mode()[0], inplace=True)\n"
     ]
    }
   ],
   "source": [
    "# ------------------------------\n",
    "# Step 2: Handle Missing Values\n",
    "# ------------------------------\n",
    "\n",
    "# Check missing values\n",
    "print(\"\\nMissing values per column:\\n\", df.isnull().sum())\n",
    "\n",
    "# Fill numerical columns with median\n",
    "df['LoanAmount'].fillna(df['LoanAmount'].median(), inplace=True)\n",
    "df['Loan_Amount_Term'].fillna(df['Loan_Amount_Term'].median(), inplace=True)\n",
    "df['Credit_History'].fillna(df['Credit_History'].mode()[0], inplace=True)\n",
    "\n",
    "# Fill categorical columns with mode\n",
    "for col in ['Gender','Married','Dependents','Self_Employed']:\n",
    "    df[col].fillna(df[col].mode()[0], inplace=True)\n"
   ]
  },
  {
   "cell_type": "code",
   "execution_count": 24,
   "id": "e0ed7687",
   "metadata": {},
   "outputs": [
    {
     "name": "stdout",
     "output_type": "stream",
     "text": [
      "Loan_ID               object\n",
      "Gender                object\n",
      "Married               object\n",
      "Dependents             int64\n",
      "Education             object\n",
      "Self_Employed         object\n",
      "ApplicantIncome        int64\n",
      "CoapplicantIncome    float64\n",
      "LoanAmount           float64\n",
      "Loan_Amount_Term     float64\n",
      "Credit_History       float64\n",
      "Property_Area         object\n",
      "Loan_Status           object\n",
      "dtype: object\n"
     ]
    }
   ],
   "source": [
    "# ------------------------------\n",
    "# Step 3: Standardize Data Types\n",
    "# ------------------------------\n",
    "\n",
    "# Convert Dependents column: replace '3+' with 3\n",
    "df['Dependents'] = df['Dependents'].replace('3+', 3).astype(int)\n",
    "\n",
    "# Verify types\n",
    "print(df.dtypes)\n"
   ]
  },
  {
   "cell_type": "code",
   "execution_count": 25,
   "id": "7da19374",
   "metadata": {},
   "outputs": [],
   "source": [
    "# ------------------------------\n",
    "# Step 4: Feature Engineering\n",
    "# ------------------------------\n",
    "\n",
    "# Total Income\n",
    "df['Total_Income'] = df['ApplicantIncome'] + df['CoapplicantIncome']\n",
    "\n",
    "# Income Bracket (low < 4000, medium 4000-8000, high > 8000)\n",
    "df['Income_Bracket'] = pd.cut(df['Total_Income'],\n",
    "                              bins=[0,4000,8000,20000],\n",
    "                              labels=['Low','Medium','High'])\n",
    "\n",
    "# Loan to Income Ratio\n",
    "df['Loan_to_Income_Ratio'] = df['LoanAmount'] / df['Total_Income']\n",
    "\n",
    "# Credit history categorical\n",
    "df['Credit_History_Flag'] = df['Credit_History'].map({1.0: 'Good', 0.0: 'Bad'})\n"
   ]
  },
  {
   "cell_type": "code",
   "execution_count": 26,
   "id": "1fd39250",
   "metadata": {},
   "outputs": [
    {
     "name": "stdout",
     "output_type": "stream",
     "text": [
      "    Loan_ID Gender Married  Dependents     Education Self_Employed  \\\n",
      "0  LP001002   Male      No           0      Graduate            No   \n",
      "1  LP001003   Male     Yes           1      Graduate            No   \n",
      "2  LP001005   Male     Yes           0      Graduate           Yes   \n",
      "3  LP001006   Male     Yes           0  Not Graduate            No   \n",
      "4  LP001008   Male      No           0      Graduate            No   \n",
      "\n",
      "   ApplicantIncome  CoapplicantIncome  LoanAmount  Loan_Amount_Term  \\\n",
      "0             5849                0.0       128.0             360.0   \n",
      "1             4583             1508.0       128.0             360.0   \n",
      "2             3000                0.0        66.0             360.0   \n",
      "3             2583             2358.0       120.0             360.0   \n",
      "4             6000                0.0       141.0             360.0   \n",
      "\n",
      "   Credit_History Property_Area Loan_Status  Total_Income Income_Bracket  \\\n",
      "0             1.0         Urban           Y        5849.0         Medium   \n",
      "1             1.0         Rural           N        6091.0         Medium   \n",
      "2             1.0         Urban           Y        3000.0            Low   \n",
      "3             1.0         Urban           Y        4941.0         Medium   \n",
      "4             1.0         Urban           Y        6000.0         Medium   \n",
      "\n",
      "   Loan_to_Income_Ratio Credit_History_Flag  Loan_Status_Binary  \n",
      "0              0.021884                Good                   1  \n",
      "1              0.021015                Good                   0  \n",
      "2              0.022000                Good                   1  \n",
      "3              0.024287                Good                   1  \n",
      "4              0.023500                Good                   1  "
     ]
    },
    {
     "name": "stdout",
     "output_type": "stream",
     "text": [
      "\n",
      "------------------------------------------------------------ \n",
      "------------------------------------------------------------\n",
      "<class 'pandas.core.frame.DataFrame'>\n",
      "RangeIndex: 614 entries, 0 to 613\n",
      "Data columns (total 18 columns):\n",
      " #   Column                Non-Null Count  Dtype   \n",
      "---  ------                --------------  -----   \n",
      " 0   Loan_ID               614 non-null    object  \n",
      " 1   Gender                614 non-null    object  \n",
      " 2   Married               614 non-null    object  \n",
      " 3   Dependents            614 non-null    int64   \n",
      " 4   Education             614 non-null    object  \n",
      " 5   Self_Employed         614 non-null    object  \n",
      " 6   ApplicantIncome       614 non-null    int64   \n",
      " 7   CoapplicantIncome     614 non-null    float64 \n",
      " 8   LoanAmount            614 non-null    float64 \n",
      " 9   Loan_Amount_Term      614 non-null    float64 \n",
      " 10  Credit_History        614 non-null    float64 \n",
      " 11  Property_Area         614 non-null    object  \n",
      " 12  Loan_Status           614 non-null    object  \n",
      " 13  Total_Income          614 non-null    float64 \n",
      " 14  Income_Bracket        596 non-null    category\n",
      " 15  Loan_to_Income_Ratio  614 non-null    float64 \n",
      " 16  Credit_History_Flag   614 non-null    object  \n",
      " 17  Loan_Status_Binary    614 non-null    int64   \n",
      "dtypes: category(1), float64(6), int64(3), object(8)\n",
      "memory usage: 82.4+ KB\n",
      "None\n"
     ]
    }
   ],
   "source": [
    "# ------------------------------\n",
    "# Step 5: Encode Categorical Features\n",
    "# ------------------------------\n",
    "\n",
    "# Map Loan_Status to numeric\n",
    "df['Loan_Status_Binary'] = df['Loan_Status'].map({'Y':1, 'N':0})\n",
    "\n",
    "# Quick check of final cleaned data\n",
    "\n",
    "print(df.head())\n",
    "print(\"------------------------------------------------------------ \\n------------------------------------------------------------\")\n",
    "\n",
    "print(df.info())\n",
    "\n"
   ]
  },
  {
   "cell_type": "code",
   "execution_count": 29,
   "id": "101e9f5d",
   "metadata": {},
   "outputs": [
    {
     "name": "stdout",
     "output_type": "stream",
     "text": [
      "Loan_Status\n",
      "Y    68.729642\n",
      "N    31.270358\n",
      "Name: proportion, dtype: float64\n",
      "------------------------------------------------------------\n",
      "Credit_History\n",
      "0.0    145.876404\n",
      "1.0    145.731429\n",
      "Name: LoanAmount, dtype: float64\n",
      "------------------------------------------------------------\n",
      "Income_Bracket\n",
      "Low       67.832168\n",
      "Medium    69.321534\n",
      "High      71.052632\n",
      "Name: Loan_Status_Binary, dtype: float64\n",
      "------------------------------------------------------------\n",
      "Loan_Status_Binary\n",
      "0    0.024988\n",
      "1    0.023371\n",
      "Name: Loan_to_Income_Ratio, dtype: float64\n",
      "------------------------------------------------------------\n",
      "Property_Area\n",
      "Rural        61.452514\n",
      "Semiurban    76.824034\n",
      "Urban        65.841584\n",
      "Name: Loan_Status_Binary, dtype: float64\n"
     ]
    },
    {
     "name": "stderr",
     "output_type": "stream",
     "text": [
      "C:\\Users\\kumar\\AppData\\Local\\Temp\\ipykernel_6164\\3108720351.py:13: FutureWarning: The default of observed=False is deprecated and will be changed to True in a future version of pandas. Pass observed=False to retain current behavior or observed=True to adopt the future default and silence this warning.\n",
      "  print(df.groupby('Income_Bracket')['Loan_Status_Binary'].mean() * 100)\n"
     ]
    }
   ],
   "source": [
    "# ------------------------------\n",
    "# Exploratory Analysis in Python\n",
    "# ------------------------------\n",
    "\n",
    "\n",
    "# Distribution of Loan_Status\n",
    "print(df['Loan_Status'].value_counts(normalize=True) * 100)\n",
    "print(\"------------------------------------------------------------\")\n",
    "# Average loan amount by credit history\n",
    "print(df.groupby('Credit_History')['LoanAmount'].mean())\n",
    "print(\"------------------------------------------------------------\")\n",
    "# Loan approval rate by Income Bracket\n",
    "print(df.groupby('Income_Bracket')['Loan_Status_Binary'].mean() * 100)\n",
    "print(\"------------------------------------------------------------\")\n",
    "# Avg Loan_to_Income_Ratio for approved vs rejected\n",
    "print(df.groupby('Loan_Status_Binary')['Loan_to_Income_Ratio'].mean())\n",
    "print(\"------------------------------------------------------------\")\n",
    "# Loan approvals by Property Area\n",
    "print(df.groupby('Property_Area')['Loan_Status_Binary'].mean() * 100)\n"
   ]
  },
  {
   "cell_type": "code",
   "execution_count": 30,
   "id": "1254a7a3",
   "metadata": {},
   "outputs": [
    {
     "name": "stdout",
     "output_type": "stream",
     "text": [
      "✅ Cleaned data saved as cleaned_loans.csv\n"
     ]
    }
   ],
   "source": [
    "df.to_csv(\"D:\\Projects\\Capstone Project\\cleaned_loans.csv\", index=False)\n",
    "print(\"✅ Cleaned data saved as cleaned_loans.csv\")\n"
   ]
  },
  {
   "cell_type": "code",
   "execution_count": 2,
   "id": "3c8168af",
   "metadata": {},
   "outputs": [
    {
     "ename": "NameError",
     "evalue": "name 'df_cleaned_loans' is not defined",
     "output_type": "error",
     "traceback": [
      "\u001b[1;31m---------------------------------------------------------------------------\u001b[0m",
      "\u001b[1;31mNameError\u001b[0m                                 Traceback (most recent call last)",
      "Cell \u001b[1;32mIn[2], line 1\u001b[0m\n\u001b[1;32m----> 1\u001b[0m \u001b[43mdf_cleaned_loans\u001b[49m\u001b[38;5;241m.\u001b[39mto_excel(\u001b[38;5;124m\"\u001b[39m\u001b[38;5;124mD:\u001b[39m\u001b[38;5;124m\\\u001b[39m\u001b[38;5;124mProjects\u001b[39m\u001b[38;5;124m\\\u001b[39m\u001b[38;5;124mCapstone Project\u001b[39m\u001b[38;5;124m\\\u001b[39m\u001b[38;5;124mcleaned_loans.xlsx\u001b[39m\u001b[38;5;124m\"\u001b[39m, index\u001b[38;5;241m=\u001b[39m\u001b[38;5;28;01mFalse\u001b[39;00m)\n",
      "\u001b[1;31mNameError\u001b[0m: name 'df_cleaned_loans' is not defined"
     ]
    }
   ],
   "source": [
    "df_cleaned_loans.to_excel(\"D:\\Projects\\Capstone Project\\cleaned_loans.xlsx\", index=False)\n"
   ]
  }
 ],
 "metadata": {
  "kernelspec": {
   "display_name": "Python 3",
   "language": "python",
   "name": "python3"
  },
  "language_info": {
   "codemirror_mode": {
    "name": "ipython",
    "version": 3
   },
   "file_extension": ".py",
   "mimetype": "text/x-python",
   "name": "python",
   "nbconvert_exporter": "python",
   "pygments_lexer": "ipython3",
   "version": "3.10.0"
  }
 },
 "nbformat": 4,
 "nbformat_minor": 5
}
